{
 "cells": [
  {
   "cell_type": "code",
   "execution_count": 126,
   "metadata": {},
   "outputs": [],
   "source": [
    "import pandas as pd\n",
    "from pandas.io import gbq"
   ]
  },
  {
   "cell_type": "code",
   "execution_count": 127,
   "metadata": {},
   "outputs": [],
   "source": [
    "# Import & Clean from Flat Files\n",
    "\n",
    "# Population\n",
    "pop_data = pd.read_csv(\"./flat_files/world_population.csv\")\n",
    "pop_data = pop_data[pop_data[\"Code\"].isin([\"KHM\", \"LAO\", \"MMR\", \"THA\", \"VNM\"])]\n",
    "pop_data = pop_data[pop_data[\"Year\"] == 2021]\n",
    "pop_data.rename(columns={'Population (historical estimates and future projections)': 'population'}, inplace=True)\n",
    "pop_data = pop_data.drop(columns = [\"Year\"])\n",
    "\n",
    "# Unemployment Rate\n",
    "unempl_data = pd.read_csv(\"./flat_files/unemployment_rate.csv\")\n",
    "unempl_data = unempl_data[unempl_data[\"Code\"].isin([\"KHM\", \"LAO\", \"MMR\", \"THA\", \"VNM\"])]\n",
    "unempl_data = unempl_data.sort_values(\"Year\", ascending=False).drop_duplicates([\"Code\"])\n",
    "unempl_data.rename(columns={'Unemployment, total (% of total labor force) (modeled ILO estimate)': 'unemployment_rate'}, inplace=True)\n",
    "unempl_data = unempl_data.drop(columns = [\"Year\"])\n",
    "\n",
    "# Hospital Beds\n",
    "hos_data = pd.read_csv(\"./flat_files/hospitals_beds_counts.csv\")\n",
    "hos_data = hos_data[hos_data[\"Code\"].isin([\"KHM\", \"LAO\", \"MMR\", \"THA\", \"VNM\"])]\n",
    "hos_data = hos_data.sort_values(\"Year\", ascending=False).drop_duplicates([\"Code\"])\n",
    "hos_data.rename(columns={'Hospital beds (total number)':'hospital_beds'}, inplace=True)\n",
    "hos_data = hos_data.drop(columns = [\"Year\"])\n",
    "\n",
    "# GDP\n",
    "gdp_data = pd.read_csv(\"./flat_files/world_gdp.csv\")\n",
    "gdp_data = gdp_data[gdp_data[\"Code\"].isin([\"KHM\", \"LAO\", \"MMR\", \"THA\", \"VNM\"])]\n",
    "gdp_data = gdp_data.sort_values(\"Year\", ascending=False).drop_duplicates([\"Code\"])\n",
    "gdp_data.rename(columns={'GDP':'gdp'}, inplace=True)\n",
    "gdp_data = gdp_data.drop(columns = [\"Year\"])\n",
    "\n",
    "# Merge pop+unem+hos+gpd\n",
    "merge_data_1 = pd.merge(pop_data, unempl_data)\n",
    "merge_data_2 = pd.merge(merge_data_1, hos_data)\n",
    "merge_data_3 = pd.merge(merge_data_2, gdp_data)"
   ]
  },
  {
   "cell_type": "code",
   "execution_count": 128,
   "metadata": {},
   "outputs": [],
   "source": [
    "# Covid IndoChina\n",
    "cov_data = pd.read_csv(\"./flat_files/indochina_covid_data_daily.csv\")\n",
    "cov_data = cov_data.fillna(0) #fill NaN values with 0\n",
    "cov_data[\"tests_units\"] = cov_data[\"tests_units\"].replace(0, \"no info\") # tests_units columns with string values\n",
    "cov_data.rename(columns={'iso_code':'Code', \"location\":\"Entity\"}, inplace=True)\n",
    "\n",
    "# Final Merge\n",
    "merge_data = pd.merge(cov_data, merge_data_3)"
   ]
  },
  {
   "cell_type": "code",
   "execution_count": 129,
   "metadata": {},
   "outputs": [
    {
     "name": "stderr",
     "output_type": "stream",
     "text": [
      "\n",
      "\n",
      "1it [00:06,  6.99s/it]\n",
      "\n",
      "\n",
      "1it [01:17, 77.56s/it]\n",
      "\n",
      "\n",
      "1it [00:03,  3.74s/it]\n",
      "\n",
      "\n",
      "1it [00:06,  6.39s/it]\n",
      "\n",
      "\n",
      "1it [00:06,  6.55s/it]\n",
      "\n",
      "\n",
      "1it [00:05,  5.02s/it]\n"
     ]
    },
    {
     "name": "stdout",
     "output_type": "stream",
     "text": [
      "Data Loaded Successfully\n"
     ]
    }
   ],
   "source": [
    "# Load dataframes onto Big Query\n",
    "pop_data.to_gbq(destination_table=\"cis-4400-baruch-hung-tran.project_cis4400.pop_data\", project_id=\"cis-4400-baruch-hung-tran\", if_exists=\"replace\")\n",
    "unempl_data.to_gbq(destination_table=\"cis-4400-baruch-hung-tran.project_cis4400.unempl_data\", project_id=\"cis-4400-baruch-hung-tran\", if_exists=\"replace\")\n",
    "hos_data.to_gbq(destination_table=\"cis-4400-baruch-hung-tran.project_cis4400.hos_data\", project_id=\"cis-4400-baruch-hung-tran\", if_exists=\"replace\")\n",
    "gdp_data.to_gbq(destination_table=\"cis-4400-baruch-hung-tran.project_cis4400.gdp_data\", project_id=\"cis-4400-baruch-hung-tran\", if_exists=\"replace\")\n",
    "cov_data.to_gbq(destination_table=\"cis-4400-baruch-hung-tran.project_cis4400.cov_data\", project_id=\"cis-4400-baruch-hung-tran\", if_exists=\"replace\")\n",
    "merge_data.to_gbq(destination_table=\"cis-4400-baruch-hung-tran.project_cis4400.all_info\", project_id=\"cis-4400-baruch-hung-tran\", if_exists=\"replace\")\n",
    "\n",
    "print(\"Data Loaded Successfully\")"
   ]
  }
 ],
 "metadata": {
  "kernelspec": {
   "display_name": "Python 3",
   "language": "python",
   "name": "python3"
  },
  "language_info": {
   "codemirror_mode": {
    "name": "ipython",
    "version": 3
   },
   "file_extension": ".py",
   "mimetype": "text/x-python",
   "name": "python",
   "nbconvert_exporter": "python",
   "pygments_lexer": "ipython3",
   "version": "3.7.4"
  }
 },
 "nbformat": 4,
 "nbformat_minor": 2
}
